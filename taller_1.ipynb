{
 "cells": [
  {
   "cell_type": "markdown",
   "id": "65a1e1fc",
   "metadata": {},
   "source": [
    "# PySpark Part of Speech (POS) analysis\n",
    "Text taken from [Reuters](https://www.reuters.com/business/finance/banks-beware-outsiders-are-cracking-code-finance-2021-09-17/)."
   ]
  },
  {
   "cell_type": "code",
   "execution_count": 1,
   "id": "601dcfb4",
   "metadata": {},
   "outputs": [],
   "source": [
    "import nltk\n",
    "from pyspark import SparkContext\n",
    "import numpy as np\n",
    "from nltk.tag import pos_tag"
   ]
  },
  {
   "cell_type": "code",
   "execution_count": 2,
   "id": "2f096bd8",
   "metadata": {},
   "outputs": [
    {
     "name": "stderr",
     "output_type": "stream",
     "text": [
      "[nltk_data] Downloading package punkt to /home/landrux/nltk_data...\n",
      "[nltk_data]   Package punkt is already up-to-date!\n",
      "[nltk_data] Downloading package averaged_perceptron_tagger to\n",
      "[nltk_data]     /home/landrux/nltk_data...\n",
      "[nltk_data]   Package averaged_perceptron_tagger is already up-to-\n",
      "[nltk_data]       date!\n",
      "[nltk_data] Downloading package universal_tagset to\n",
      "[nltk_data]     /home/landrux/nltk_data...\n",
      "[nltk_data]   Package universal_tagset is already up-to-date!\n"
     ]
    },
    {
     "data": {
      "text/plain": [
       "True"
      ]
     },
     "execution_count": 2,
     "metadata": {},
     "output_type": "execute_result"
    }
   ],
   "source": [
    "nltk.download(\"punkt\")\n",
    "nltk.download(\"averaged_perceptron_tagger\")\n",
    "nltk.download('universal_tagset')"
   ]
  },
  {
   "cell_type": "code",
   "execution_count": 3,
   "id": "39a753c2",
   "metadata": {},
   "outputs": [
    {
     "name": "stderr",
     "output_type": "stream",
     "text": [
      "22/03/07 03:57:51 WARN Utils: Your hostname, Landrux-PC resolves to a loopback address: 127.0.1.1; using 192.168.0.163 instead (on interface wlp2s0)\n",
      "22/03/07 03:57:51 WARN Utils: Set SPARK_LOCAL_IP if you need to bind to another address\n",
      "WARNING: An illegal reflective access operation has occurred\n",
      "WARNING: Illegal reflective access by org.apache.spark.unsafe.Platform (file:/opt/spark/spark-3.2.1-bin-hadoop3.2/jars/spark-unsafe_2.12-3.2.1.jar) to constructor java.nio.DirectByteBuffer(long,int)\n",
      "WARNING: Please consider reporting this to the maintainers of org.apache.spark.unsafe.Platform\n",
      "WARNING: Use --illegal-access=warn to enable warnings of further illegal reflective access operations\n",
      "WARNING: All illegal access operations will be denied in a future release\n",
      "Using Spark's default log4j profile: org/apache/spark/log4j-defaults.properties\n",
      "Setting default log level to \"WARN\".\n",
      "To adjust logging level use sc.setLogLevel(newLevel). For SparkR, use setLogLevel(newLevel).\n",
      "22/03/07 03:57:52 WARN NativeCodeLoader: Unable to load native-hadoop library for your platform... using builtin-java classes where applicable\n",
      "22/03/07 03:57:54 WARN Utils: Service 'SparkUI' could not bind on port 4040. Attempting port 4041.\n"
     ]
    }
   ],
   "source": [
    "# Entry point for working with RDD\n",
    "sc = SparkContext(appName = \"taller_1\")"
   ]
  },
  {
   "cell_type": "code",
   "execution_count": 4,
   "id": "3c9a3560",
   "metadata": {},
   "outputs": [],
   "source": [
    "# Loading a text file\n",
    "rdd_articulo = sc.textFile(\"./data/articulo.txt\")"
   ]
  },
  {
   "cell_type": "code",
   "execution_count": 5,
   "id": "65789669",
   "metadata": {},
   "outputs": [],
   "source": [
    "texto = open('./data/articulo.txt').read()"
   ]
  },
  {
   "cell_type": "code",
   "execution_count": 6,
   "id": "5c2d7154",
   "metadata": {},
   "outputs": [],
   "source": [
    "tokens =nltk.word_tokenize(texto)"
   ]
  },
  {
   "cell_type": "code",
   "execution_count": 7,
   "id": "d359b083",
   "metadata": {},
   "outputs": [],
   "source": [
    "data= pos_tag(tokens ,tagset='universal')"
   ]
  },
  {
   "cell_type": "code",
   "execution_count": 8,
   "id": "8eed4621-23c3-41c8-8dae-a0969a29d5e8",
   "metadata": {},
   "outputs": [],
   "source": [
    "data1 = np.flip(data)"
   ]
  },
  {
   "cell_type": "code",
   "execution_count": 9,
   "id": "b130e2ff-95ec-4ff4-8471-97dc500545d9",
   "metadata": {},
   "outputs": [
    {
     "data": {
      "text/plain": [
       "array([['.', \"''\"],\n",
       "       ['.', '.'],\n",
       "       ['NOUN', 'leader'],\n",
       "       ...,\n",
       "       ['.', ','],\n",
       "       ['NOUN', 'beware'],\n",
       "       ['NOUN', 'Banks']], dtype='<U14')"
      ]
     },
     "execution_count": 9,
     "metadata": {},
     "output_type": "execute_result"
    }
   ],
   "source": [
    "data1"
   ]
  },
  {
   "cell_type": "code",
   "execution_count": 10,
   "id": "5aaebd66-6069-4d63-b292-83989bb37cfd",
   "metadata": {},
   "outputs": [],
   "source": [
    "rdd_pair = sc.parallelize(data1)"
   ]
  },
  {
   "cell_type": "code",
   "execution_count": 11,
   "id": "a23f373f-a20d-41c7-adb0-07fb40d1c07c",
   "metadata": {},
   "outputs": [
    {
     "name": "stderr",
     "output_type": "stream",
     "text": [
      "                                                                                \r"
     ]
    }
   ],
   "source": [
    "lista = rdd_pair.countByKey()"
   ]
  },
  {
   "cell_type": "code",
   "execution_count": 12,
   "id": "ec00a61c-e7c9-4924-bd7b-f015818bf2cb",
   "metadata": {},
   "outputs": [
    {
     "data": {
      "text/plain": [
       "defaultdict(int,\n",
       "            {'.': 209,\n",
       "             'NOUN': 428,\n",
       "             'DET': 91,\n",
       "             'VERB': 249,\n",
       "             'PRT': 59,\n",
       "             'PRON': 56,\n",
       "             'ADP': 144,\n",
       "             'ADJ': 95,\n",
       "             'NUM': 35,\n",
       "             'ADV': 62,\n",
       "             'CONJ': 45})"
      ]
     },
     "execution_count": 12,
     "metadata": {},
     "output_type": "execute_result"
    }
   ],
   "source": [
    "lista"
   ]
  },
  {
   "cell_type": "code",
   "execution_count": 13,
   "id": "7d50ea5e",
   "metadata": {},
   "outputs": [],
   "source": [
    "sc.stop()"
   ]
  },
  {
   "cell_type": "code",
   "execution_count": null,
   "id": "05bd672e",
   "metadata": {},
   "outputs": [],
   "source": []
  }
 ],
 "metadata": {
  "kernelspec": {
   "display_name": "Python 3 (ipykernel)",
   "language": "python",
   "name": "python3"
  },
  "language_info": {
   "codemirror_mode": {
    "name": "ipython",
    "version": 3
   },
   "file_extension": ".py",
   "mimetype": "text/x-python",
   "name": "python",
   "nbconvert_exporter": "python",
   "pygments_lexer": "ipython3",
   "version": "3.9.7"
  }
 },
 "nbformat": 4,
 "nbformat_minor": 5
}
